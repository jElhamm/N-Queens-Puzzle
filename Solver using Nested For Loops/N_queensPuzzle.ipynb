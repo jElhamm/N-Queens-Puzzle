{
  "cells": [
    {
      "cell_type": "code",
      "execution_count": 1,
      "metadata": {
        "id": "9IJr2-rqG5lE"
      },
      "outputs": [],
      "source": [
        "#********************************************************************************************************************************\n",
        "#                                                     k-minister problem                                                        *\n",
        "#                                                                                                                               *\n",
        "#       This code finds solutions to the k-minister problem,                                                                    *\n",
        "#       where k ministers need to be placed on a k x k chessboard without threatening each other.                               *\n",
        "#       It calculates the number of valid arrangements for each k value from 1 to a user-defined maximum.                       *\n",
        "#       The code measures the execution time for each calculation and displays the results in a tabular format.                 *\n",
        "#       The main function takes user input for the maximum k value, calculates the solutions, and presents the results.         *\n",
        "#                                                                                                                               *\n",
        "#********************************************************************************************************************************"
      ]
    },
    {
      "cell_type": "code",
      "execution_count": 2,
      "metadata": {
        "id": "mnc1UGLNG-Rm"
      },
      "outputs": [],
      "source": [
        "import time                                                                                             # Import the time module to measure execution time\n",
        "from tabulate import tabulate                                                                           # Import the tabulate module to create a table for results"
      ]
    },
    {
      "cell_type": "code",
      "execution_count": 4,
      "metadata": {
        "id": "RnD3T9iQFWbR"
      },
      "outputs": [],
      "source": [
        "# Count the number of collisions between ministers\n",
        "def collision(ministers):\n",
        "    collision_count = 0                                                                                 # Initialize the collision count\n",
        "    for i in range(len(ministers)):                                                                     # Iterate through each pair of ministers\n",
        "        for j in range(i + 1, len(ministers)):\n",
        "            if ministers[i] == ministers[j] or abs(ministers[i] - ministers[j]) == abs(i - j):          # Check for collisions in rows or diagonals\n",
        "                collision_count += 1                                                                    # Increment collision count if a collision is found\n",
        "    return collision_count                                                                              # Return the total collision count\n",
        "\n",
        "def k_minister_problem(k):\n",
        "    start_time = time.time()                                                                            # Measure the start time for execution\n",
        "    for i in range(1, k + 1):                                                                           # Iterate through different numbers of ministers from 1 to k\n",
        "        ministers = [0] * i                                                                             # Initialize ministers positions\n",
        "        solutions = 0                                                                                   # Count the number of solutions for this number of ministers\n",
        "        for a in range(k ** i):                                                                         # Generate all possible combinations of ministers' positions\n",
        "            for j in range(i):                                                                          # Fill the ministers' positions using base-k representation\n",
        "                ministers[j] = a % k\n",
        "                a //= k\n",
        "            if collision(ministers) == 0:                                                               # Check if the current arrangement has no collisions\n",
        "                solutions += 1                                                                          # Increment the count of solutions\n",
        "    end_time = time.time()                                                                              # Measure the end time for execution\n",
        "    return k, solutions, end_time - start_time                                                          # Return the number of ministers, number of solutions, and execution time\n"
      ]
    },
    {
      "cell_type": "code",
      "execution_count": 5,
      "metadata": {
        "colab": {
          "base_uri": "https://localhost:8080/"
        },
        "id": "HWeto7omImdp",
        "outputId": "ef81a5c9-6785-43b7-9da2-bde82632f108"
      },
      "outputs": [
        {
          "name": "stdout",
          "output_type": "stream",
          "text": [
            "\n",
            "********************************************************************\n",
            "---> Enter the maximum value of k: 8\n",
            "+-------------+---------------------+----------------------+\n",
            "|   Ministers |   Number of Answers |   Execution Time (s) |\n",
            "+=============+=====================+======================+\n",
            "|           1 |                   1 |          1.0252e-05  |\n",
            "+-------------+---------------------+----------------------+\n",
            "|           2 |                   0 |          1.83582e-05 |\n",
            "+-------------+---------------------+----------------------+\n",
            "|           3 |                   0 |          0.000124216 |\n",
            "+-------------+---------------------+----------------------+\n",
            "|           4 |                   2 |          0.00170016  |\n",
            "+-------------+---------------------+----------------------+\n",
            "|           5 |                  10 |          0.0331006   |\n",
            "+-------------+---------------------+----------------------+\n",
            "|           6 |                   4 |          0.326675    |\n",
            "+-------------+---------------------+----------------------+\n",
            "|           7 |                  40 |          6.91922     |\n",
            "+-------------+---------------------+----------------------+\n",
            "|           8 |                  92 |        196.143       |\n",
            "+-------------+---------------------+----------------------+\n"
          ]
        }
      ],
      "source": [
        "def main():\n",
        "    print(\"\\n********************************************************************\")\n",
        "    max_k = int(input(\"---> Enter the maximum value of k: \"))\n",
        "    result_table = []\n",
        "    for k in range(1, max_k + 1):                                                                      # Calculate solutions for each value of k\n",
        "        k_value, solutions, execution_time = k_minister_problem(k)\n",
        "        result_table.append([k_value, solutions, execution_time])\n",
        "\n",
        "    headers = [\"Ministers\", \"Number of Answers\", \"Execution Time (s)\"]                                 # Display the results in a tabular format\n",
        "    print(tabulate(result_table, headers=headers, tablefmt=\"grid\"))\n",
        "\n",
        "\n",
        "if __name__ == \"__main__\":\n",
        "    main()"
      ]
    }
  ],
  "metadata": {
    "colab": {
      "provenance": []
    },
    "kernelspec": {
      "display_name": "Python 3",
      "name": "python3"
    },
    "language_info": {
      "name": "python"
    }
  },
  "nbformat": 4,
  "nbformat_minor": 0
}
